{
 "cells": [
  {
   "cell_type": "markdown",
   "metadata": {},
   "source": [
    "# Goal : OBJECTS RECOGNITION USING SIFT DESCRIPTOR \n",
    "## Scale Invariant Feature Transform"
   ]
  },
  {
   "cell_type": "code",
   "execution_count": 1,
   "metadata": {},
   "outputs": [],
   "source": [
    "import numpy as np\n",
    "import pandas as pd\n",
    "import cv2\n",
    "import os\n",
    "from matplotlib import pyplot as plt\n",
    "import utils"
   ]
  },
  {
   "cell_type": "markdown",
   "metadata": {},
   "source": [
    "## Load and split (50%) datasets 101_ObjectCategories and coil-100 into train and test set"
   ]
  },
  {
   "cell_type": "code",
   "execution_count": 2,
   "metadata": {},
   "outputs": [
    {
     "name": "stdout",
     "output_type": "stream",
     "text": [
      "101_objectsCategories 9145 images, 102 labels: 4573 train and 4572 test set.\n",
      "\n",
      "\n",
      "coil-100 7200 images, 100 labels: 3601 train and 3599 test set.\n"
     ]
    }
   ],
   "source": [
    "# 101_objectsCategories dataset\n",
    "train, test, labels = utils.load_dataset_objectCategories(\"datasets/101_ObjectCategories/\")\n",
    "\n",
    "print(\"\\n\")\n",
    "\n",
    "# coil-100 dataset\n",
    "_train, _test, _labels = utils.load_dataset_coil(\"datasets/coil-100/\")"
   ]
  },
  {
   "cell_type": "markdown",
   "metadata": {},
   "source": [
    "## Our datasets now content images 128X128 grayscales"
   ]
  },
  {
   "cell_type": "code",
   "execution_count": 3,
   "metadata": {},
   "outputs": [
    {
     "data": {
      "text/html": [
       "<div>\n",
       "<style scoped>\n",
       "    .dataframe tbody tr th:only-of-type {\n",
       "        vertical-align: middle;\n",
       "    }\n",
       "\n",
       "    .dataframe tbody tr th {\n",
       "        vertical-align: top;\n",
       "    }\n",
       "\n",
       "    .dataframe thead th {\n",
       "        text-align: right;\n",
       "    }\n",
       "</style>\n",
       "<table border=\"1\" class=\"dataframe\">\n",
       "  <thead>\n",
       "    <tr style=\"text-align: right;\">\n",
       "      <th></th>\n",
       "      <th>images</th>\n",
       "      <th>labels</th>\n",
       "    </tr>\n",
       "  </thead>\n",
       "  <tbody>\n",
       "    <tr>\n",
       "      <th>0</th>\n",
       "      <td>[[0, 0, 2, 2, 0, 0, 0, 2, 2, 0, 1, 2, 2, 2, 2,...</td>\n",
       "      <td>21</td>\n",
       "    </tr>\n",
       "    <tr>\n",
       "      <th>1</th>\n",
       "      <td>[[197, 192, 189, 191, 196, 196, 193, 195, 198,...</td>\n",
       "      <td>75</td>\n",
       "    </tr>\n",
       "    <tr>\n",
       "      <th>2</th>\n",
       "      <td>[[255, 255, 255, 255, 255, 255, 255, 255, 255,...</td>\n",
       "      <td>6</td>\n",
       "    </tr>\n",
       "    <tr>\n",
       "      <th>3</th>\n",
       "      <td>[[255, 164, 129, 130, 131, 131, 132, 131, 131,...</td>\n",
       "      <td>60</td>\n",
       "    </tr>\n",
       "    <tr>\n",
       "      <th>4</th>\n",
       "      <td>[[39, 32, 47, 47, 51, 41, 36, 38, 54, 64, 64, ...</td>\n",
       "      <td>26</td>\n",
       "    </tr>\n",
       "  </tbody>\n",
       "</table>\n",
       "</div>"
      ],
      "text/plain": [
       "                                              images labels\n",
       "0  [[0, 0, 2, 2, 0, 0, 0, 2, 2, 0, 1, 2, 2, 2, 2,...     21\n",
       "1  [[197, 192, 189, 191, 196, 196, 193, 195, 198,...     75\n",
       "2  [[255, 255, 255, 255, 255, 255, 255, 255, 255,...      6\n",
       "3  [[255, 164, 129, 130, 131, 131, 132, 131, 131,...     60\n",
       "4  [[39, 32, 47, 47, 51, 41, 36, 38, 54, 64, 64, ...     26"
      ]
     },
     "execution_count": 3,
     "metadata": {},
     "output_type": "execute_result"
    }
   ],
   "source": [
    "train.head()"
   ]
  },
  {
   "cell_type": "code",
   "execution_count": 4,
   "metadata": {},
   "outputs": [
    {
     "data": {
      "text/html": [
       "<div>\n",
       "<style scoped>\n",
       "    .dataframe tbody tr th:only-of-type {\n",
       "        vertical-align: middle;\n",
       "    }\n",
       "\n",
       "    .dataframe tbody tr th {\n",
       "        vertical-align: top;\n",
       "    }\n",
       "\n",
       "    .dataframe thead th {\n",
       "        text-align: right;\n",
       "    }\n",
       "</style>\n",
       "<table border=\"1\" class=\"dataframe\">\n",
       "  <thead>\n",
       "    <tr style=\"text-align: right;\">\n",
       "      <th></th>\n",
       "      <th>images</th>\n",
       "      <th>labels</th>\n",
       "    </tr>\n",
       "  </thead>\n",
       "  <tbody>\n",
       "    <tr>\n",
       "      <th>4573</th>\n",
       "      <td>[[194, 180, 179, 178, 181, 181, 178, 179, 181,...</td>\n",
       "      <td>97</td>\n",
       "    </tr>\n",
       "    <tr>\n",
       "      <th>4574</th>\n",
       "      <td>[[255, 255, 255, 255, 255, 255, 255, 255, 255,...</td>\n",
       "      <td>49</td>\n",
       "    </tr>\n",
       "    <tr>\n",
       "      <th>4575</th>\n",
       "      <td>[[61, 60, 59, 60, 60, 59, 55, 55, 57, 59, 62, ...</td>\n",
       "      <td>3</td>\n",
       "    </tr>\n",
       "    <tr>\n",
       "      <th>4576</th>\n",
       "      <td>[[105, 105, 105, 105, 105, 105, 105, 105, 105,...</td>\n",
       "      <td>6</td>\n",
       "    </tr>\n",
       "    <tr>\n",
       "      <th>4577</th>\n",
       "      <td>[[71, 84, 74, 69, 68, 68, 71, 73, 72, 76, 77, ...</td>\n",
       "      <td>90</td>\n",
       "    </tr>\n",
       "  </tbody>\n",
       "</table>\n",
       "</div>"
      ],
      "text/plain": [
       "                                                 images labels\n",
       "4573  [[194, 180, 179, 178, 181, 181, 178, 179, 181,...     97\n",
       "4574  [[255, 255, 255, 255, 255, 255, 255, 255, 255,...     49\n",
       "4575  [[61, 60, 59, 60, 60, 59, 55, 55, 57, 59, 62, ...      3\n",
       "4576  [[105, 105, 105, 105, 105, 105, 105, 105, 105,...      6\n",
       "4577  [[71, 84, 74, 69, 68, 68, 71, 73, 72, 76, 77, ...     90"
      ]
     },
     "execution_count": 4,
     "metadata": {},
     "output_type": "execute_result"
    }
   ],
   "source": [
    "test.head()"
   ]
  },
  {
   "cell_type": "code",
   "execution_count": 5,
   "metadata": {},
   "outputs": [
    {
     "name": "stdout",
     "output_type": "stream",
     "text": [
      "(128, 128)\n"
     ]
    }
   ],
   "source": [
    "print(np.asarray(_train[\"images\"])[0].shape)"
   ]
  },
  {
   "cell_type": "markdown",
   "metadata": {},
   "source": [
    "# Extract descriptors and save as pickle and csv file"
   ]
  },
  {
   "cell_type": "code",
   "execution_count": 6,
   "metadata": {},
   "outputs": [
    {
     "data": {
      "text/plain": [
       "<matplotlib.image.AxesImage at 0x7fbba5cbfef0>"
      ]
     },
     "execution_count": 6,
     "metadata": {},
     "output_type": "execute_result"
    },
    {
     "data": {
      "image/png": "[encoded data removed]",
      "text/plain": [
       "<Figure size 432x288 with 1 Axes>"
      ]
     },
     "metadata": {
      "needs_background": "light"
     },
     "output_type": "display_data"
    }
   ],
   "source": [
    "plt.imshow(np.asarray(test[\"images\"])[0],cmap=\"gray\")"
   ]
  },
  {
   "cell_type": "code",
   "execution_count": 7,
   "metadata": {},
   "outputs": [
    {
     "data": {
      "text/plain": [
       "<matplotlib.image.AxesImage at 0x7fbba5d309e8>"
      ]
     },
     "execution_count": 7,
     "metadata": {},
     "output_type": "execute_result"
    },
    {
     "data": {
      "image/png": "[encoded data removed]",
      "text/plain": [
       "<Figure size 432x288 with 1 Axes>"
      ]
     },
     "metadata": {
      "needs_background": "light"
     },
     "output_type": "display_data"
    }
   ],
   "source": [
    "plt.imshow(np.asarray(test[\"images\"])[1],cmap=\"gray\")"
   ]
  },
  {
   "cell_type": "code",
   "execution_count": 8,
   "metadata": {},
   "outputs": [],
   "source": [
    "import SIFT as sift"
   ]
  },
  {
   "cell_type": "code",
   "execution_count": 9,
   "metadata": {},
   "outputs": [],
   "source": [
    "sift.compute_sift_on_dataset(data = np.asarray(train).tolist(), labels = labels, save_name = \"train_objDB_descriptors\")\n",
    "sift.compute_sift_on_dataset(data = np.asarray(test).tolist(), labels = labels, save_name = \"test_objDB_descriptors\")\n",
    "\n",
    "sift.compute_sift_on_dataset(data = np.asarray(_train).tolist(), labels = _labels, save_name = \"train_coilDB_descriptors\")\n",
    "sift.compute_sift_on_dataset(data = np.asarray(_test).tolist(), labels = _labels, save_name = \"test_coilDB_descriptors\")"
   ]
  },
  {
   "cell_type": "code",
   "execution_count": 10,
   "metadata": {},
   "outputs": [
    {
     "data": {
      "text/plain": [
       "array([21, 75, 6, 60, 26, 37, 72, 49, 77, 38, 4, 40, 16, 8, 1, 50, 48, 88,\n",
       "       70, 93, 54, 71, 24, 7, 52, 25, 27, 99, 3, 83, 82, 74, 90, 0, 39,\n",
       "       33, 67, 9, 94, 10, 56, 76, 14, 80, 30, 43, 41, 87, 61, 44, 15, 66,\n",
       "       100, 35, 12, 46, 34, 29, 62, 17, 59, 31, 22, 65, 47, 45, 78, 11,\n",
       "       19, 64, 97, 92, 36, 55, 18, 23, 96, 91, 2, 32, 73, 58, 101, 51, 86,\n",
       "       98, 53, 69, 20, 79, 13, 89, 68, 85, 95, 84, 57, 42, 63, 28, 5, 81],\n",
       "      dtype=object)"
      ]
     },
     "execution_count": 10,
     "metadata": {},
     "output_type": "execute_result"
    }
   ],
   "source": [
    "train[\"labels\"].unique()"
   ]
  },
  {
   "cell_type": "code",
   "execution_count": 11,
   "metadata": {},
   "outputs": [
    {
     "data": {
      "text/plain": [
       "102"
      ]
     },
     "execution_count": 11,
     "metadata": {},
     "output_type": "execute_result"
    }
   ],
   "source": [
    "len(train[\"labels\"].unique())"
   ]
  },
  {
   "cell_type": "code",
   "execution_count": 12,
   "metadata": {},
   "outputs": [
    {
     "data": {
      "text/plain": [
       "100"
      ]
     },
     "execution_count": 12,
     "metadata": {},
     "output_type": "execute_result"
    }
   ],
   "source": [
    "len(_train[\"labels\"].unique())"
   ]
  },
  {
   "cell_type": "code",
   "execution_count": 13,
   "metadata": {},
   "outputs": [
    {
     "data": {
      "text/plain": [
       "102"
      ]
     },
     "execution_count": 13,
     "metadata": {},
     "output_type": "execute_result"
    }
   ],
   "source": [
    "len(test[\"labels\"].unique())"
   ]
  },
  {
   "cell_type": "code",
   "execution_count": 14,
   "metadata": {},
   "outputs": [
    {
     "data": {
      "text/plain": [
       "100"
      ]
     },
     "execution_count": 14,
     "metadata": {},
     "output_type": "execute_result"
    }
   ],
   "source": [
    "len(_test[\"labels\"].unique())"
   ]
  },
  {
   "cell_type": "markdown",
   "metadata": {},
   "source": [
    "# load descriptor set of train and test set"
   ]
  },
  {
   "cell_type": "code",
   "execution_count": 15,
   "metadata": {},
   "outputs": [],
   "source": [
    "train_descriptor = pd.read_pickle(\"data_descriptors/train_objDB_descriptors.pkl\")\n",
    "test_descriptor = pd.read_pickle(\"data_descriptors/test_objDB_descriptors.pkl\")\n",
    "\n",
    "\n",
    "_train_descriptor = pd.read_pickle(\"data_descriptors/train_coilDB_descriptors.pkl\")\n",
    "_test_descriptor = pd.read_pickle(\"data_descriptors/test_coilDB_descriptors.pkl\")"
   ]
  },
  {
   "cell_type": "code",
   "execution_count": 16,
   "metadata": {},
   "outputs": [
    {
     "data": {
      "text/html": [
       "<div>\n",
       "<style scoped>\n",
       "    .dataframe tbody tr th:only-of-type {\n",
       "        vertical-align: middle;\n",
       "    }\n",
       "\n",
       "    .dataframe tbody tr th {\n",
       "        vertical-align: top;\n",
       "    }\n",
       "\n",
       "    .dataframe thead th {\n",
       "        text-align: right;\n",
       "    }\n",
       "</style>\n",
       "<table border=\"1\" class=\"dataframe\">\n",
       "  <thead>\n",
       "    <tr style=\"text-align: right;\">\n",
       "      <th></th>\n",
       "      <th>obj_name</th>\n",
       "      <th>nb_kp</th>\n",
       "      <th>descriptors</th>\n",
       "    </tr>\n",
       "  </thead>\n",
       "  <tbody>\n",
       "    <tr>\n",
       "      <th>0</th>\n",
       "      <td>Leopards</td>\n",
       "      <td>234</td>\n",
       "      <td>[[26.0, 0.0, 0.0, 0.0, 0.0, 0.0, 0.0, 1.0, 205...</td>\n",
       "    </tr>\n",
       "    <tr>\n",
       "      <th>1</th>\n",
       "      <td>stegosaurus</td>\n",
       "      <td>188</td>\n",
       "      <td>[[0.0, 0.0, 0.0, 0.0, 5.0, 5.0, 1.0, 2.0, 20.0...</td>\n",
       "    </tr>\n",
       "    <tr>\n",
       "      <th>2</th>\n",
       "      <td>stop_sign</td>\n",
       "      <td>78</td>\n",
       "      <td>[[0.0, 0.0, 10.0, 23.0, 0.0, 0.0, 0.0, 0.0, 4....</td>\n",
       "    </tr>\n",
       "    <tr>\n",
       "      <th>3</th>\n",
       "      <td>airplanes</td>\n",
       "      <td>133</td>\n",
       "      <td>[[1.0, 1.0, 6.0, 2.0, 1.0, 2.0, 3.0, 1.0, 134....</td>\n",
       "    </tr>\n",
       "    <tr>\n",
       "      <th>4</th>\n",
       "      <td>car_side</td>\n",
       "      <td>231</td>\n",
       "      <td>[[0.0, 0.0, 0.0, 15.0, 61.0, 0.0, 0.0, 0.0, 3....</td>\n",
       "    </tr>\n",
       "  </tbody>\n",
       "</table>\n",
       "</div>"
      ],
      "text/plain": [
       "      obj_name nb_kp                                        descriptors\n",
       "0     Leopards   234  [[26.0, 0.0, 0.0, 0.0, 0.0, 0.0, 0.0, 1.0, 205...\n",
       "1  stegosaurus   188  [[0.0, 0.0, 0.0, 0.0, 5.0, 5.0, 1.0, 2.0, 20.0...\n",
       "2    stop_sign    78  [[0.0, 0.0, 10.0, 23.0, 0.0, 0.0, 0.0, 0.0, 4....\n",
       "3    airplanes   133  [[1.0, 1.0, 6.0, 2.0, 1.0, 2.0, 3.0, 1.0, 134....\n",
       "4     car_side   231  [[0.0, 0.0, 0.0, 15.0, 61.0, 0.0, 0.0, 0.0, 3...."
      ]
     },
     "execution_count": 16,
     "metadata": {},
     "output_type": "execute_result"
    }
   ],
   "source": [
    "train_descriptor.head()"
   ]
  },
  {
   "cell_type": "code",
   "execution_count": 17,
   "metadata": {},
   "outputs": [
    {
     "data": {
      "text/html": [
       "<div>\n",
       "<style scoped>\n",
       "    .dataframe tbody tr th:only-of-type {\n",
       "        vertical-align: middle;\n",
       "    }\n",
       "\n",
       "    .dataframe tbody tr th {\n",
       "        vertical-align: top;\n",
       "    }\n",
       "\n",
       "    .dataframe thead th {\n",
       "        text-align: right;\n",
       "    }\n",
       "</style>\n",
       "<table border=\"1\" class=\"dataframe\">\n",
       "  <thead>\n",
       "    <tr style=\"text-align: right;\">\n",
       "      <th></th>\n",
       "      <th>obj_name</th>\n",
       "      <th>nb_kp</th>\n",
       "      <th>descriptors</th>\n",
       "    </tr>\n",
       "  </thead>\n",
       "  <tbody>\n",
       "    <tr>\n",
       "      <th>0</th>\n",
       "      <td>hawksbill</td>\n",
       "      <td>158</td>\n",
       "      <td>[[21.0, 12.0, 47.0, 55.0, 3.0, 0.0, 1.0, 19.0,...</td>\n",
       "    </tr>\n",
       "    <tr>\n",
       "      <th>1</th>\n",
       "      <td>grand_piano</td>\n",
       "      <td>100</td>\n",
       "      <td>[[0.0, 0.0, 13.0, 21.0, 0.0, 0.0, 0.0, 0.0, 0....</td>\n",
       "    </tr>\n",
       "    <tr>\n",
       "      <th>2</th>\n",
       "      <td>Faces</td>\n",
       "      <td>108</td>\n",
       "      <td>[[0.0, 0.0, 0.0, 0.0, 0.0, 40.0, 28.0, 0.0, 11...</td>\n",
       "    </tr>\n",
       "    <tr>\n",
       "      <th>3</th>\n",
       "      <td>stop_sign</td>\n",
       "      <td>72</td>\n",
       "      <td>[[8.0, 60.0, 2.0, 0.0, 0.0, 33.0, 74.0, 5.0, 2...</td>\n",
       "    </tr>\n",
       "    <tr>\n",
       "      <th>4</th>\n",
       "      <td>sunflower</td>\n",
       "      <td>226</td>\n",
       "      <td>[[23.0, 92.0, 28.0, 36.0, 64.0, 4.0, 0.0, 0.0,...</td>\n",
       "    </tr>\n",
       "  </tbody>\n",
       "</table>\n",
       "</div>"
      ],
      "text/plain": [
       "      obj_name nb_kp                                        descriptors\n",
       "0    hawksbill   158  [[21.0, 12.0, 47.0, 55.0, 3.0, 0.0, 1.0, 19.0,...\n",
       "1  grand_piano   100  [[0.0, 0.0, 13.0, 21.0, 0.0, 0.0, 0.0, 0.0, 0....\n",
       "2        Faces   108  [[0.0, 0.0, 0.0, 0.0, 0.0, 40.0, 28.0, 0.0, 11...\n",
       "3    stop_sign    72  [[8.0, 60.0, 2.0, 0.0, 0.0, 33.0, 74.0, 5.0, 2...\n",
       "4    sunflower   226  [[23.0, 92.0, 28.0, 36.0, 64.0, 4.0, 0.0, 0.0,..."
      ]
     },
     "execution_count": 17,
     "metadata": {},
     "output_type": "execute_result"
    }
   ],
   "source": [
    "test_descriptor.head()"
   ]
  },
  {
   "cell_type": "code",
   "execution_count": 18,
   "metadata": {},
   "outputs": [
    {
     "data": {
      "text/html": [
       "<div>\n",
       "<style scoped>\n",
       "    .dataframe tbody tr th:only-of-type {\n",
       "        vertical-align: middle;\n",
       "    }\n",
       "\n",
       "    .dataframe tbody tr th {\n",
       "        vertical-align: top;\n",
       "    }\n",
       "\n",
       "    .dataframe thead th {\n",
       "        text-align: right;\n",
       "    }\n",
       "</style>\n",
       "<table border=\"1\" class=\"dataframe\">\n",
       "  <thead>\n",
       "    <tr style=\"text-align: right;\">\n",
       "      <th></th>\n",
       "      <th>obj_name</th>\n",
       "      <th>nb_kp</th>\n",
       "      <th>descriptors</th>\n",
       "    </tr>\n",
       "  </thead>\n",
       "  <tbody>\n",
       "    <tr>\n",
       "      <th>0</th>\n",
       "      <td>obj2</td>\n",
       "      <td>9</td>\n",
       "      <td>[[0.0, 0.0, 0.0, 2.0, 1.0, 2.0, 53.0, 20.0, 5....</td>\n",
       "    </tr>\n",
       "    <tr>\n",
       "      <th>1</th>\n",
       "      <td>obj45</td>\n",
       "      <td>179</td>\n",
       "      <td>[[3.0, 9.0, 0.0, 2.0, 74.0, 118.0, 0.0, 0.0, 7...</td>\n",
       "    </tr>\n",
       "    <tr>\n",
       "      <th>2</th>\n",
       "      <td>obj30</td>\n",
       "      <td>213</td>\n",
       "      <td>[[0.0, 0.0, 0.0, 1.0, 0.0, 0.0, 0.0, 0.0, 3.0,...</td>\n",
       "    </tr>\n",
       "    <tr>\n",
       "      <th>3</th>\n",
       "      <td>obj16</td>\n",
       "      <td>391</td>\n",
       "      <td>[[0.0, 0.0, 0.0, 0.0, 0.0, 0.0, 0.0, 0.0, 134....</td>\n",
       "    </tr>\n",
       "    <tr>\n",
       "      <th>4</th>\n",
       "      <td>obj65</td>\n",
       "      <td>162</td>\n",
       "      <td>[[1.0, 0.0, 0.0, 0.0, 0.0, 0.0, 0.0, 0.0, 92.0...</td>\n",
       "    </tr>\n",
       "  </tbody>\n",
       "</table>\n",
       "</div>"
      ],
      "text/plain": [
       "  obj_name nb_kp                                        descriptors\n",
       "0     obj2     9  [[0.0, 0.0, 0.0, 2.0, 1.0, 2.0, 53.0, 20.0, 5....\n",
       "1    obj45   179  [[3.0, 9.0, 0.0, 2.0, 74.0, 118.0, 0.0, 0.0, 7...\n",
       "2    obj30   213  [[0.0, 0.0, 0.0, 1.0, 0.0, 0.0, 0.0, 0.0, 3.0,...\n",
       "3    obj16   391  [[0.0, 0.0, 0.0, 0.0, 0.0, 0.0, 0.0, 0.0, 134....\n",
       "4    obj65   162  [[1.0, 0.0, 0.0, 0.0, 0.0, 0.0, 0.0, 0.0, 92.0..."
      ]
     },
     "execution_count": 18,
     "metadata": {},
     "output_type": "execute_result"
    }
   ],
   "source": [
    "_train_descriptor.head()"
   ]
  },
  {
   "cell_type": "code",
   "execution_count": 19,
   "metadata": {
    "scrolled": true
   },
   "outputs": [
    {
     "data": {
      "text/html": [
       "<div>\n",
       "<style scoped>\n",
       "    .dataframe tbody tr th:only-of-type {\n",
       "        vertical-align: middle;\n",
       "    }\n",
       "\n",
       "    .dataframe tbody tr th {\n",
       "        vertical-align: top;\n",
       "    }\n",
       "\n",
       "    .dataframe thead th {\n",
       "        text-align: right;\n",
       "    }\n",
       "</style>\n",
       "<table border=\"1\" class=\"dataframe\">\n",
       "  <thead>\n",
       "    <tr style=\"text-align: right;\">\n",
       "      <th></th>\n",
       "      <th>obj_name</th>\n",
       "      <th>nb_kp</th>\n",
       "      <th>descriptors</th>\n",
       "    </tr>\n",
       "  </thead>\n",
       "  <tbody>\n",
       "    <tr>\n",
       "      <th>0</th>\n",
       "      <td>obj66</td>\n",
       "      <td>366</td>\n",
       "      <td>[[0.0, 0.0, 3.0, 18.0, 35.0, 14.0, 4.0, 1.0, 2...</td>\n",
       "    </tr>\n",
       "    <tr>\n",
       "      <th>1</th>\n",
       "      <td>obj63</td>\n",
       "      <td>6</td>\n",
       "      <td>[[0.0, 0.0, 0.0, 4.0, 59.0, 30.0, 5.0, 3.0, 8....</td>\n",
       "    </tr>\n",
       "    <tr>\n",
       "      <th>2</th>\n",
       "      <td>obj67</td>\n",
       "      <td>325</td>\n",
       "      <td>[[11.0, 76.0, 43.0, 0.0, 0.0, 4.0, 5.0, 7.0, 9...</td>\n",
       "    </tr>\n",
       "    <tr>\n",
       "      <th>3</th>\n",
       "      <td>obj84</td>\n",
       "      <td>103</td>\n",
       "      <td>[[14.0, 1.0, 1.0, 14.0, 46.0, 7.0, 0.0, 3.0, 1...</td>\n",
       "    </tr>\n",
       "    <tr>\n",
       "      <th>4</th>\n",
       "      <td>obj41</td>\n",
       "      <td>293</td>\n",
       "      <td>[[5.0, 33.0, 102.0, 12.0, 0.0, 0.0, 0.0, 1.0, ...</td>\n",
       "    </tr>\n",
       "  </tbody>\n",
       "</table>\n",
       "</div>"
      ],
      "text/plain": [
       "  obj_name nb_kp                                        descriptors\n",
       "0    obj66   366  [[0.0, 0.0, 3.0, 18.0, 35.0, 14.0, 4.0, 1.0, 2...\n",
       "1    obj63     6  [[0.0, 0.0, 0.0, 4.0, 59.0, 30.0, 5.0, 3.0, 8....\n",
       "2    obj67   325  [[11.0, 76.0, 43.0, 0.0, 0.0, 4.0, 5.0, 7.0, 9...\n",
       "3    obj84   103  [[14.0, 1.0, 1.0, 14.0, 46.0, 7.0, 0.0, 3.0, 1...\n",
       "4    obj41   293  [[5.0, 33.0, 102.0, 12.0, 0.0, 0.0, 0.0, 1.0, ..."
      ]
     },
     "execution_count": 19,
     "metadata": {},
     "output_type": "execute_result"
    }
   ],
   "source": [
    "_test_descriptor.head()"
   ]
  },
  {
   "cell_type": "markdown",
   "metadata": {},
   "source": [
    "# Match test set descriptors on train set descriptors"
   ]
  },
  {
   "cell_type": "code",
   "execution_count": null,
   "metadata": {},
   "outputs": [
    {
     "name": "stdout",
     "output_type": "stream",
     "text": [
      "1\n",
      "2\n",
      "3\n",
      "4\n"
     ]
    }
   ],
   "source": [
    "# 101_OjectsCategories dataset\n",
    "match_list = sift.match_test_train(test_set = test_descriptor[\"descriptors\"].values.tolist(), train_set = train_descriptor[\"descriptors\"].values.tolist(), save_name = \"match_test_train_dbOjtCat\")"
   ]
  },
  {
   "cell_type": "code",
   "execution_count": null,
   "metadata": {},
   "outputs": [],
   "source": [
    "# coil-100 dataset \n",
    "#_match_list = sift.match_test_train_threading(test_set = _test_descriptor[\"descriptors\"].values.tolist(), train_set = _train_descriptor[\"descriptors\"].values.tolist(), save_name = \"match_test_train_dbCoil_100\")"
   ]
  },
  {
   "cell_type": "code",
   "execution_count": null,
   "metadata": {},
   "outputs": [],
   "source": [
    "# save results\n",
    "#save = np.savetxt(\"macth_descriptor/list_tab_ratio\", match_list)\n",
    "\n",
    "import pickle\n",
    "\n",
    "pickle.dump(match_list, open( \"macth_descriptor/save.p\", \"wb\" ))\n",
    "\n",
    "#match_list = pickle.load(open(\"macth_descriptor/save.p\", \"rb\" ))\n",
    "\n",
    "import joblib\n",
    "joblib.dump(match_list, \"macth_descriptor/list_tab_ratio_bis\" )"
   ]
  },
  {
   "cell_type": "code",
   "execution_count": null,
   "metadata": {},
   "outputs": [],
   "source": [
    "# evaluate \n",
    "list_scores = sift.evaluate_matching(match_list, train_descriptor[\"descriptors\"].values.tolist())"
   ]
  },
  {
   "cell_type": "code",
   "execution_count": null,
   "metadata": {},
   "outputs": [],
   "source": [
    "list_scores"
   ]
  },
  {
   "cell_type": "code",
   "execution_count": null,
   "metadata": {},
   "outputs": [],
   "source": [
    "# predict\n",
    "list_labels =  np.loadtxt('data/101_ObjectCategories/labels.txt', dtype=np.str)\n",
    "list_labels = list_labels.tolist()\n",
    "\n",
    "list_pred =  sift.predict(list_scores, list_labels, train[\"labels\"].values.tolist())"
   ]
  },
  {
   "cell_type": "code",
   "execution_count": null,
   "metadata": {},
   "outputs": [],
   "source": [
    "list_pred"
   ]
  },
  {
   "cell_type": "code",
   "execution_count": null,
   "metadata": {},
   "outputs": [],
   "source": [
    "test[\"labels\"].values.tolist()"
   ]
  },
  {
   "cell_type": "code",
   "execution_count": null,
   "metadata": {},
   "outputs": [],
   "source": [
    "len(list_labels)"
   ]
  },
  {
   "cell_type": "code",
   "execution_count": null,
   "metadata": {},
   "outputs": [],
   "source": [
    "# Compute and draw confusion metric\n",
    "\n",
    "\n",
    "sift.confusion_matrix(predict_labels = list_pred, true_labels = test[\"labels\"].values.tolist(), labels = list_labels)"
   ]
  },
  {
   "cell_type": "code",
   "execution_count": null,
   "metadata": {},
   "outputs": [],
   "source": []
  },
  {
   "cell_type": "code",
   "execution_count": null,
   "metadata": {},
   "outputs": [],
   "source": []
  }
 ],
 "metadata": {
  "kernelspec": {
   "display_name": "Python 3",
   "language": "python",
   "name": "python3"
  },
  "language_info": {
   "codemirror_mode": {
    "name": "ipython",
    "version": 3
   },
   "file_extension": ".py",
   "mimetype": "text/x-python",
   "name": "python",
   "nbconvert_exporter": "python",
   "pygments_lexer": "ipython3",
   "version": "3.6.12"
  }
 },
 "nbformat": 4,
 "nbformat_minor": 4
}
